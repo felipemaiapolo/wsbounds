{
 "cells": [
  {
   "cell_type": "code",
   "execution_count": 1,
   "id": "4be502f1-267a-4149-a0f0-8b6e7b8af341",
   "metadata": {},
   "outputs": [
    {
     "data": {
      "text/plain": [
       "14"
      ]
     },
     "execution_count": 1,
     "metadata": {},
     "output_type": "execute_result"
    }
   ],
   "source": [
    "import numpy as np\n",
    "\n",
    "## small samples will return constant scores, then the correlation will be nan by default\n",
    "def replace_nan_with_zero(array):\n",
    "    return np.nan_to_num(array)\n",
    "\n",
    "scoring = {'agnews':'accuracy', 'trec':'accuracy', 'semeval':'accuracy', 'chemprot':'accuracy',\n",
    "           'youtube':'accuracy', 'imdb':'accuracy', 'yelp':'accuracy',\n",
    "           'census':'f1', 'tennis':'f1', 'sms':'f1', 'cdr':'f1', 'basketball':'f1', \n",
    "           'spouse':'f1', 'commercial':'f1'}\n",
    "datasets = scoring.keys()\n",
    "len(datasets)"
   ]
  },
  {
   "cell_type": "code",
   "execution_count": 2,
   "id": "f394b4a2-14d8-4025-951a-83cddc42ca25",
   "metadata": {},
   "outputs": [],
   "source": [
    "results = np.load('../results/results_exp4.npy', allow_pickle=True).item()"
   ]
  },
  {
   "cell_type": "code",
   "execution_count": 3,
   "id": "d26d43f5-df1f-4685-8950-7df640abb30c",
   "metadata": {},
   "outputs": [
    {
     "name": "stdout",
     "output_type": "stream",
     "text": [
      "corr\n",
      "[[ 0.91  0.86  0.86  0.92  0.39  0.35  0.5   0.76]\n",
      " [-0.32  0.37  0.19  0.44 -0.03 -0.06 -0.1   0.17]\n",
      " [ 0.87 -0.84  0.88  0.88  0.13  0.17  0.64  0.62]\n",
      " [ 0.75 -0.66  0.38  0.49 -0.01 -0.12 -0.02  0.06]\n",
      " [ 0.38 -0.42 -0.01  0.17  0.41  0.42  0.38  0.58]\n",
      " [ 0.84  0.76  0.71  0.92  0.17  0.4   0.61  0.65]\n",
      " [ 0.01 -0.5  -0.49 -0.31  0.08  0.09  0.14  0.45]\n",
      " [ 0.85  0.94  0.96  0.98  0.    0.    0.03  0.18]\n",
      " [ 0.83  0.74  0.8   0.9   0.33  0.41  0.51  0.52]\n",
      " [ 0.    0.99  0.99  1.    0.    0.    0.    0.  ]\n",
      " [ 0.8   0.89  0.92  0.98  0.03  0.07  0.07  0.09]\n",
      " [ 0.85  0.69  0.73  0.81  0.35  0.53  0.59  0.59]\n",
      " [ 0.53  0.86  0.86  1.    0.    0.    0.    0.1 ]\n",
      " [ 0.95  0.96  0.99  1.    0.14  0.26  0.28  0.31]]\n",
      "\n",
      "\n",
      "[[0.01 0.   0.   0.01 0.31 0.54 0.53 0.19]\n",
      " [0.36 0.32 0.34 0.39 0.55 0.39 0.34 0.52]\n",
      " [0.04 0.04 0.04 0.04 0.64 0.69 0.32 0.41]\n",
      " [0.08 0.11 0.11 0.15 0.47 0.45 0.43 0.41]\n",
      " [0.21 0.19 0.21 0.29 0.35 0.27 0.31 0.19]\n",
      " [0.01 0.   0.02 0.01 0.49 0.46 0.28 0.3 ]\n",
      " [0.08 0.05 0.05 0.1  0.65 0.53 0.45 0.3 ]\n",
      " [0.   0.   0.   0.   0.   0.   0.09 0.17]\n",
      " [0.02 0.03 0.02 0.03 0.24 0.22 0.12 0.12]\n",
      " [0.   0.02 0.02 0.   0.   0.   0.   0.  ]\n",
      " [0.   0.   0.   0.   0.08 0.11 0.11 0.11]\n",
      " [0.01 0.   0.01 0.   0.29 0.18 0.   0.  ]\n",
      " [0.   0.   0.   0.   0.   0.   0.   0.12]\n",
      " [0.   0.   0.   0.   0.13 0.14 0.13 0.06]]\n",
      "\n",
      "\n",
      "\n",
      "score\n",
      "[[0.77 0.78 0.78 0.77 0.75 0.75 0.75 0.77]\n",
      " [0.27 0.29 0.29 0.29 0.28 0.28 0.28 0.28]\n",
      " [0.32 0.26 0.32 0.32 0.3  0.29 0.31 0.31]\n",
      " [0.4  0.38 0.4  0.4  0.4  0.4  0.4  0.39]\n",
      " [0.89 0.84 0.87 0.89 0.9  0.9  0.9  0.91]\n",
      " [0.72 0.74 0.73 0.73 0.69 0.71 0.73 0.72]\n",
      " [0.81 0.81 0.81 0.81 0.81 0.81 0.81 0.82]\n",
      " [0.49 0.18 0.49 0.49 0.49 0.49 0.49 0.5 ]\n",
      " [0.76 0.76 0.76 0.75 0.71 0.71 0.71 0.71]\n",
      " [0.   0.14 0.14 0.14 0.   0.   0.   0.  ]\n",
      " [0.48 0.29 0.48 0.48 0.47 0.47 0.47 0.47]\n",
      " [0.16 0.27 0.26 0.17 0.2  0.17 0.16 0.16]\n",
      " [0.27 0.27 0.27 0.29 0.   0.   0.   0.1 ]\n",
      " [0.96 0.96 0.96 0.96 0.9  0.9  0.91 0.91]]\n",
      "\n",
      "\n",
      "[[0.   0.   0.   0.   0.02 0.02 0.03 0.  ]\n",
      " [0.01 0.02 0.02 0.02 0.02 0.02 0.02 0.02]\n",
      " [0.01 0.01 0.01 0.01 0.02 0.03 0.02 0.02]\n",
      " [0.   0.   0.   0.   0.01 0.01 0.   0.01]\n",
      " [0.02 0.05 0.01 0.02 0.02 0.02 0.02 0.02]\n",
      " [0.   0.   0.   0.   0.05 0.02 0.01 0.01]\n",
      " [0.   0.   0.   0.   0.04 0.03 0.01 0.01]\n",
      " [0.   0.   0.   0.   0.   0.   0.   0.  ]\n",
      " [0.01 0.01 0.01 0.01 0.01 0.01 0.01 0.02]\n",
      " [0.   0.02 0.02 0.02 0.   0.   0.   0.  ]\n",
      " [0.   0.   0.   0.   0.   0.   0.   0.  ]\n",
      " [0.01 0.01 0.01 0.01 0.05 0.03 0.01 0.01]\n",
      " [0.01 0.01 0.01 0.01 0.   0.   0.   0.12]\n",
      " [0.   0.   0.   0.   0.01 0.02 0.01 0.01]]\n",
      "\n",
      "\n",
      "\n"
     ]
    }
   ],
   "source": [
    "for metric in ['corr','score']:\n",
    "    print(metric)\n",
    "    print(np.vstack([np.delete(np.round(np.mean(replace_nan_with_zero(np.array(results[dataset][metric])),axis=0),2), 4, 0) for dataset in datasets]))\n",
    "    print('\\n')\n",
    "    print(np.vstack([np.delete(np.round(np.std(replace_nan_with_zero(np.array(results[dataset][metric])),axis=0),2), 4, 0) for dataset in datasets]))\n",
    "    print('\\n\\n')"
   ]
  },
  {
   "cell_type": "code",
   "execution_count": null,
   "id": "e4df2223-738a-4597-a6c0-edc908b50a46",
   "metadata": {},
   "outputs": [],
   "source": []
  }
 ],
 "metadata": {
  "kernelspec": {
   "display_name": "Python 3 (ipykernel)",
   "language": "python",
   "name": "python3"
  },
  "language_info": {
   "codemirror_mode": {
    "name": "ipython",
    "version": 3
   },
   "file_extension": ".py",
   "mimetype": "text/x-python",
   "name": "python",
   "nbconvert_exporter": "python",
   "pygments_lexer": "ipython3",
   "version": "3.8.20"
  }
 },
 "nbformat": 4,
 "nbformat_minor": 5
}
