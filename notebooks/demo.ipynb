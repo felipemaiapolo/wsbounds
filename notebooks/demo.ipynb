{
 "cells": [
  {
   "cell_type": "markdown",
   "id": "cdcfc134",
   "metadata": {},
   "source": [
    "# Demo: hate speech detection"
   ]
  },
  {
   "cell_type": "code",
   "execution_count": 1,
   "id": "4e30d738",
   "metadata": {},
   "outputs": [
    {
     "ename": "RuntimeError",
     "evalue": "module compiled against API version 0x10 but this version of numpy is 0xf . Check the section C-API incompatibility at the Troubleshooting ImportError section at https://numpy.org/devdocs/user/troubleshooting-importerror.html#c-api-incompatibility for indications on how to solve this problem .",
     "output_type": "error",
     "traceback": [
      "\u001b[0;31m---------------------------------------------------------------------------\u001b[0m",
      "\u001b[0;31mRuntimeError\u001b[0m                              Traceback (most recent call last)",
      "\u001b[0;31mRuntimeError\u001b[0m: module compiled against API version 0x10 but this version of numpy is 0xf . Check the section C-API incompatibility at the Troubleshooting ImportError section at https://numpy.org/devdocs/user/troubleshooting-importerror.html#c-api-incompatibility for indications on how to solve this problem ."
     ]
    },
    {
     "name": "stdout",
     "output_type": "stream",
     "text": [
      "(CVXPY) Feb 10 08:44:17 PM: Encountered unexpected exception importing solver SCS:\n",
      "ImportError('numpy.core.multiarray failed to import')\n"
     ]
    },
    {
     "name": "stderr",
     "output_type": "stream",
     "text": [
      "/home/skunk/miniconda3/envs/frechet_bounds/lib/python3.8/site-packages/wrench/labelmodel/generative_model_src.py:941: NumbaDeprecationWarning: The 'nopython' keyword argument was not supplied to the 'numba.jit' decorator. The implicit default value for this argument is currently False, but it will be changed to True in Numba 0.59.0. See https://numba.readthedocs.io/en/stable/reference/deprecation.html#deprecation-of-object-mode-fall-back-behaviour-when-using-jit for details.\n",
      "  def set_numba_seeds(seed):\n"
     ]
    }
   ],
   "source": [
    "import numpy as np\n",
    "import pandas as pd\n",
    "import torch\n",
    "import pickle\n",
    "from tqdm import tqdm\n",
    "import matplotlib.pyplot as plt\n",
    "from utils import DefineDevice, FindRowIndex, GetP_Y_Z, SuppressPrints\n",
    "from models import LogReg, TrainModelCI, CIRisk, GetLogLossTensor\n",
    "from sentence_transformers import SentenceTransformer\n",
    "from os import walk\n",
    "from sklearn.model_selection import train_test_split\n",
    "from eval_pws import EvalPWS\n",
    "from wrench.labelmodel.flyingsquid import FlyingSquid\n",
    "from snorkel.labeling.model import LabelModel\n",
    "from utils import learn_structure\n",
    "from sklearn.metrics import precision_score, recall_score, f1_score\n",
    "import os\n",
    "import sys\n",
    "from label_functions import *\n",
    "\n",
    "### Some fixed params ###\n",
    "device='cuda'\n",
    "tol = 1e-4\n",
    "max_epochs = 1e4\n",
    "weight_decays_ws = np.logspace(0,-3,10)\n",
    "conf = .95\n",
    "approx_error = .001\n",
    "random_state=42\n",
    "verbose=True"
   ]
  },
  {
   "cell_type": "markdown",
   "id": "11361798",
   "metadata": {},
   "source": [
    "## Data"
   ]
  },
  {
   "cell_type": "markdown",
   "id": "e36eae4a",
   "metadata": {},
   "source": [
    "### Loading data"
   ]
  },
  {
   "cell_type": "code",
   "execution_count": 2,
   "id": "bec791d3",
   "metadata": {},
   "outputs": [],
   "source": [
    "data_path = '../data'"
   ]
  },
  {
   "cell_type": "code",
   "execution_count": 3,
   "id": "43558264",
   "metadata": {},
   "outputs": [],
   "source": [
    "train_path = data_path+'/hate-speech-dataset/sampled_train'\n",
    "train_filenames = next(walk(train_path), (None, None, []))[2] \n",
    "\n",
    "test_path = data_path+'/hate-speech-dataset/sampled_test'\n",
    "test_filenames = next(walk(test_path), (None, None, []))[2]\n",
    "\n",
    "annot = pd.read_csv(data_path+'/hate-speech-dataset/annotations_metadata.csv')\n",
    "\n",
    "\n",
    "## Preparing data ##\n",
    "train = []\n",
    "test = []\n",
    "Y_test = []\n",
    "  \n",
    "def labeler(label):\n",
    "    if label=='noHate': return 0\n",
    "    else: return 1\n",
    "\n",
    "for file in train_filenames:\n",
    "    with open(train_path + '/' + file, 'r') as f:\n",
    "        train.append(f.read().rstrip())\n",
    "\n",
    "for file in test_filenames:\n",
    "    with open(test_path + '/' + file, 'r') as f:\n",
    "        test.append(f.read().rstrip())\n",
    "    Y_test.append(labeler(annot.loc[annot.file_id==file.replace('.txt','')]['label'].iloc[0]))"
   ]
  },
  {
   "cell_type": "markdown",
   "id": "1938633c",
   "metadata": {},
   "source": [
    "Dataset sizes"
   ]
  },
  {
   "cell_type": "code",
   "execution_count": 4,
   "id": "8dec41bd",
   "metadata": {},
   "outputs": [
    {
     "data": {
      "text/plain": [
       "(1914, 478)"
      ]
     },
     "execution_count": 4,
     "metadata": {},
     "output_type": "execute_result"
    }
   ],
   "source": [
    "len(train), len(test)"
   ]
  },
  {
   "cell_type": "markdown",
   "id": "54fd6d71",
   "metadata": {},
   "source": [
    "Examples of non-hate speech/hate speech:"
   ]
  },
  {
   "cell_type": "code",
   "execution_count": 5,
   "id": "190f228f",
   "metadata": {},
   "outputs": [
    {
     "name": "stdout",
     "output_type": "stream",
     "text": [
      "noHate example: I can give you her Skype and she will answer all your questions . \n",
      "Hate example: And the sad thing is the white students at those schools will act like that too .\n"
     ]
    }
   ],
   "source": [
    "print(\"noHate example:\", test[0], \"\\nHate example:\",test[4])"
   ]
  },
  {
   "cell_type": "markdown",
   "id": "f700bd93",
   "metadata": {},
   "source": [
    "### Processing data"
   ]
  },
  {
   "cell_type": "markdown",
   "id": "22ae72a6",
   "metadata": {},
   "source": [
    "Extracting features from $X$:"
   ]
  },
  {
   "cell_type": "code",
   "execution_count": 6,
   "id": "13f922f0",
   "metadata": {
    "scrolled": true
   },
   "outputs": [
    {
     "name": "stderr",
     "output_type": "stream",
     "text": [
      "100%|██████████████████████████████████████| 1914/1914 [00:11<00:00, 161.23it/s]\n",
      "100%|████████████████████████████████████████| 478/478 [00:02<00:00, 194.11it/s]\n"
     ]
    }
   ],
   "source": [
    "feature_extractor = SentenceTransformer('all-MiniLM-L6-v2')\n",
    "\n",
    "X_train = torch.stack([torch.tensor(feature_extractor.encode([t])[0]) for t in tqdm(train, disable=not verbose)]).double().to(device)\n",
    "X_test = torch.stack([torch.tensor(feature_extractor.encode([t])[0]) for t in tqdm(test, disable=not verbose)]).double().to(device)"
   ]
  },
  {
   "cell_type": "code",
   "execution_count": 7,
   "id": "5dd9ea92",
   "metadata": {},
   "outputs": [],
   "source": [
    "torch.save(X_train, 'X_train.pt')\n",
    "torch.save(X_test, 'X_test.pt')\n",
    "\n",
    "#X_train = torch.load('X_train.pt')\n",
    "#X_test = torch.load('X_test.pt')"
   ]
  },
  {
   "cell_type": "code",
   "execution_count": 9,
   "id": "e2ac8940",
   "metadata": {},
   "outputs": [
    {
     "data": {
      "text/plain": [
       "(torch.Size([1914, 384]), torch.Size([478, 384]))"
      ]
     },
     "execution_count": 9,
     "metadata": {},
     "output_type": "execute_result"
    }
   ],
   "source": [
    "X_train.shape, X_test.shape"
   ]
  },
  {
   "cell_type": "markdown",
   "id": "e9462bd1",
   "metadata": {},
   "source": [
    "#### Extracting weak labels from texts"
   ]
  },
  {
   "cell_type": "markdown",
   "id": "14edfdf2",
   "metadata": {},
   "source": [
    "Loading hate/offensive terms"
   ]
  },
  {
   "cell_type": "code",
   "execution_count": 10,
   "id": "e45769a6",
   "metadata": {},
   "outputs": [
    {
     "data": {
      "text/plain": [
       "(['allah akbar',\n",
       "  'blacks',\n",
       "  'chink',\n",
       "  'chinks',\n",
       "  'dykes',\n",
       "  'faggot',\n",
       "  'faggots',\n",
       "  'fags',\n",
       "  'homo',\n",
       "  'inbred'],\n",
       " 178)"
      ]
     },
     "execution_count": 10,
     "metadata": {},
     "output_type": "execute_result"
    }
   ],
   "source": [
    "terms = list(pd.read_csv(data_path+'/refined_ngram_dict.csv').ngram)\n",
    "terms[:10], len(terms)"
   ]
  },
  {
   "cell_type": "markdown",
   "id": "b22cd715",
   "metadata": {},
   "source": [
    "Loading pre-trained classifiers"
   ]
  },
  {
   "cell_type": "code",
   "execution_count": 11,
   "id": "998749ac",
   "metadata": {},
   "outputs": [
    {
     "name": "stderr",
     "output_type": "stream",
     "text": [
      "Some weights of the model checkpoint at s-nlp/roberta_toxicity_classifier were not used when initializing RobertaForSequenceClassification: ['roberta.pooler.dense.weight', 'roberta.pooler.dense.bias']\n",
      "- This IS expected if you are initializing RobertaForSequenceClassification from the checkpoint of a model trained on another task or with another architecture (e.g. initializing a BertForSequenceClassification model from a BertForPreTraining model).\n",
      "- This IS NOT expected if you are initializing RobertaForSequenceClassification from the checkpoint of a model that you expect to be exactly identical (initializing a BertForSequenceClassification model from a BertForSequenceClassification model).\n"
     ]
    }
   ],
   "source": [
    "## Loading language models and bank of terms used to obtain WLs ##\n",
    "#Loading BERT for hate speech detection (https://huggingface.co/IMSyPP/hate_speech_en)\n",
    "bert_tokenizer = BertTokenizer.from_pretrained('IMSyPP/hate_speech_en')\n",
    "bert_model = BertForSequenceClassification.from_pretrained('IMSyPP/hate_speech_en').to(device)\n",
    "\n",
    "#Loading Roberta for toxicity detection\n",
    "#https://huggingface.co/s-nlp/roberta_toxicity_classifier?text=I+like+you.+I+love+you\n",
    "roberta_tokenizer = RobertaTokenizer.from_pretrained('s-nlp/roberta_toxicity_classifier')\n",
    "roberta_model = RobertaForSequenceClassification.from_pretrained('s-nlp/roberta_toxicity_classifier').to(device)"
   ]
  },
  {
   "cell_type": "markdown",
   "id": "5438ca92",
   "metadata": {},
   "source": [
    "Getting weak labels"
   ]
  },
  {
   "cell_type": "code",
   "execution_count": 12,
   "id": "7c8f4f6f",
   "metadata": {},
   "outputs": [
    {
     "name": "stderr",
     "output_type": "stream",
     "text": [
      "100%|███████████████████████████████████████| 1914/1914 [00:35<00:00, 53.44it/s]\n"
     ]
    }
   ],
   "source": [
    "L_train = torch.tensor([[textblob_sentiment_lf(text), \n",
    "                         terms_lf(text, terms),\n",
    "                         bert_hate_lf(text, bert_model, bert_tokenizer, device), \n",
    "                         roberta_toxicity_lf(text, roberta_model, roberta_tokenizer, device)] for text in tqdm(train, disable=not verbose)])"
   ]
  },
  {
   "cell_type": "code",
   "execution_count": 13,
   "id": "1c347550",
   "metadata": {},
   "outputs": [
    {
     "data": {
      "text/plain": [
       "tensor([[0, 0, 0, 0],\n",
       "        [0, 0, 0, 0],\n",
       "        [0, 0, 1, 0],\n",
       "        ...,\n",
       "        [0, 0, 1, 0],\n",
       "        [0, 0, 0, 0],\n",
       "        [1, 0, 1, 1]])"
      ]
     },
     "execution_count": 13,
     "metadata": {},
     "output_type": "execute_result"
    }
   ],
   "source": [
    "L_train"
   ]
  },
  {
   "cell_type": "code",
   "execution_count": 14,
   "id": "fd38358d",
   "metadata": {},
   "outputs": [],
   "source": [
    "torch.save(L_train, 'L_train.pt')\n",
    "#L_train = torch.load('L_train.pt')"
   ]
  },
  {
   "cell_type": "markdown",
   "id": "b782b5a6",
   "metadata": {},
   "source": [
    "Putting some part of the training set to validation"
   ]
  },
  {
   "cell_type": "code",
   "execution_count": 15,
   "id": "b40d63b9",
   "metadata": {},
   "outputs": [],
   "source": [
    "X_train, X_val,\\\n",
    "L_train, L_val = train_test_split(X_train, L_train, test_size=.1, random_state=random_state)\n",
    "\n",
    "L = torch.vstack((L_train, L_val))"
   ]
  },
  {
   "cell_type": "markdown",
   "id": "1934c2c0",
   "metadata": {},
   "source": [
    "Standardizing $X$"
   ]
  },
  {
   "cell_type": "code",
   "execution_count": 16,
   "id": "85f6c60f",
   "metadata": {},
   "outputs": [],
   "source": [
    "X_test = (X_test-X_train.mean(axis=0))/X_train.std(axis=0)\n",
    "X_val = (X_val-X_train.mean(axis=0))/X_train.std(axis=0)\n",
    "X_train = (X_train-X_train.mean(axis=0))/X_train.std(axis=0)"
   ]
  },
  {
   "cell_type": "markdown",
   "id": "bf272b70",
   "metadata": {},
   "source": [
    "Creating Z from L (encoding L)"
   ]
  },
  {
   "cell_type": "code",
   "execution_count": 17,
   "id": "dcf4d7cd",
   "metadata": {},
   "outputs": [],
   "source": [
    "set_Z_aux = torch.unique(L, dim=0) \n",
    "Z_train = torch.tensor([FindRowIndex(set_Z_aux, l) for l in L_train]) #used to train ws model\n",
    "Z_val = torch.tensor([FindRowIndex(set_Z_aux, l) for l in L_val]) #used to validate hyperpar. of ws model\n",
    "Z = torch.hstack((Z_train, Z_val))"
   ]
  },
  {
   "cell_type": "markdown",
   "id": "33975635",
   "metadata": {},
   "source": [
    "Defining supp(Y) and supp(Z)"
   ]
  },
  {
   "cell_type": "code",
   "execution_count": 18,
   "id": "bcdce1f4",
   "metadata": {},
   "outputs": [],
   "source": [
    "set_Y_aux = [0,1]\n",
    "set_Y = torch.tensor(range(len(set_Y_aux)))\n",
    "set_Z = torch.tensor(range(set_Z_aux.shape[0]))"
   ]
  },
  {
   "cell_type": "markdown",
   "id": "8953befe",
   "metadata": {},
   "source": [
    "## Fitting label model"
   ]
  },
  {
   "cell_type": "code",
   "execution_count": 19,
   "id": "c0a2a653",
   "metadata": {},
   "outputs": [
    {
     "name": "stderr",
     "output_type": "stream",
     "text": [
      "100%|██████████████████████████████████| 1000/1000 [00:00<00:00, 1823.35epoch/s]\n"
     ]
    }
   ],
   "source": [
    "label_model = LabelModel(cardinality=set_Y.shape[0], verbose=False)\n",
    "label_model.fit(L_train = L, n_epochs=1000, seed=random_state)\n",
    "P_Y_Z = torch.tensor(label_model.predict_proba(L=set_Z_aux)).T   \n",
    "P_Y_Z = P_Y_Z.double().to(device)"
   ]
  },
  {
   "cell_type": "code",
   "execution_count": 20,
   "id": "9fde49af",
   "metadata": {},
   "outputs": [
    {
     "data": {
      "image/png": "[encoded data removed]",
      "text/plain": [
       "<Figure size 640x480 with 2 Axes>"
      ]
     },
     "metadata": {},
     "output_type": "display_data"
    }
   ],
   "source": [
    "im = plt.imshow(P_Y_Z.T.to('cpu'))\n",
    "plt.ylabel('Z')\n",
    "plt.xlabel('Y')\n",
    "plt.colorbar(im, label='probability')\n",
    "plt.show()"
   ]
  },
  {
   "cell_type": "markdown",
   "id": "50abe0b7",
   "metadata": {},
   "source": [
    "## Fitting final classifier"
   ]
  },
  {
   "cell_type": "code",
   "execution_count": 21,
   "id": "615b2e82",
   "metadata": {},
   "outputs": [
    {
     "name": "stderr",
     "output_type": "stream",
     "text": [
      "100%|███████████████████████████████████████████| 10/10 [00:02<00:00,  4.75it/s]\n"
     ]
    }
   ],
   "source": [
    "val_losses = []\n",
    "for weight_decay in tqdm(weight_decays_ws, disable=not verbose):\n",
    "    model = LogReg(X_train.shape[1], set_Y.shape[0]).double().to(device)\n",
    "    model = TrainModelCI(model, X_train, Z_train, set_Z, P_Y_Z, weight_decay=weight_decay, tol=tol, max_epochs=max_epochs, device=device)\n",
    "    val_losses.append(CIRisk(GetLogLossTensor(model, X_val), Z_val, set_Z, P_Y_Z, device).item())\n",
    "model_ws = LogReg(X_train.shape[1], set_Y.shape[0]).double().to(device)\n",
    "model_ws = TrainModelCI(model_ws, X_train, Z_train, set_Z, P_Y_Z, weight_decay=weight_decays_ws[np.argmin(val_losses)], tol=tol, max_epochs=max_epochs, device=device)"
   ]
  },
  {
   "cell_type": "markdown",
   "id": "b4054efa",
   "metadata": {},
   "source": [
    "## Evaluation (with Fréchet bounds)"
   ]
  },
  {
   "cell_type": "code",
   "execution_count": 22,
   "id": "32375d27",
   "metadata": {},
   "outputs": [],
   "source": [
    "threshs = np.linspace(0,1,20)"
   ]
  },
  {
   "cell_type": "code",
   "execution_count": 23,
   "id": "17fdc642",
   "metadata": {},
   "outputs": [
    {
     "name": "stderr",
     "output_type": "stream",
     "text": [
      "100%|███████████████████████████████████████████| 20/20 [00:07<00:00,  2.52it/s]\n"
     ]
    }
   ],
   "source": [
    "eval_bound = {}\n",
    "\n",
    "for thresh in tqdm(threshs):\n",
    "    \n",
    "    y_hat = (model_ws(X_val)[:,1]>thresh).long()\n",
    "    y_hat_full = (model_ws(torch.vstack((X_test,X_val)))[:,1]>thresh).long()\n",
    "\n",
    "    eval_bound[thresh] = EvalPWS(y_hat, 'prf', set_Y, set_Z, Z_val, P_Y_Z, device, y_hat_full, Z)"
   ]
  },
  {
   "cell_type": "code",
   "execution_count": 24,
   "id": "e0de4348",
   "metadata": {},
   "outputs": [
    {
     "data": {
      "image/png": "[encoded data removed]",
      "text/plain": [
       "<Figure size 1200x300 with 3 Axes>"
      ]
     },
     "metadata": {},
     "output_type": "display_data"
    }
   ],
   "source": [
    "plt.figure(figsize=(12, 3))\n",
    "colors = {'lower':'red', 'upper':'blue'}\n",
    "\n",
    "for i,metric in enumerate(['precision','recall','f1']):\n",
    "    plt.subplot(1, 3, i+1)\n",
    "    for bound in ['lower','upper']:\n",
    "        plot_data = np.array([[eval_bound[thresh][bound][metric]['center']]+eval_bound[thresh][bound][metric]['ci'] for thresh in threshs])\n",
    "    \n",
    "        plt.plot(threshs, plot_data[:,0], color=colors[bound], alpha=.5)\n",
    "        plt.fill_between(threshs, plot_data[:,1], plot_data[:,2], color=colors[bound], alpha=.05)\n",
    "        \n",
    "    #plot test values\n",
    "    test_values = []\n",
    "    for thresh in threshs:\n",
    "        y_hat = (model_ws(X_test)>thresh)[:,1].to('cpu').numpy().astype('int').tolist()\n",
    "        y = Y_test\n",
    "        \n",
    "        if metric=='precision':\n",
    "            test_values.append(precision_score(y, y_hat, average='binary', zero_division=np.nan))\n",
    "        elif metric=='recall':\n",
    "            test_values.append(recall_score(y, y_hat, average='binary', zero_division=np.nan))\n",
    "        else:\n",
    "            test_values.append(f1_score(y, y_hat, average='binary', zero_division=np.nan))\n",
    "            \n",
    "    plt.plot(threshs, test_values, color='green')\n",
    "    plt.ylim(0,1)\n",
    "    plt.xlim(0,1)\n",
    "    plt.ylabel(metric, size=12)\n",
    "    plt.xlabel('classification threshold', size=12)\n",
    "    plt.grid(alpha=.2)\n",
    "plt.tight_layout()\n",
    "plt.show()"
   ]
  },
  {
   "cell_type": "code",
   "execution_count": null,
   "id": "73a0b41a",
   "metadata": {},
   "outputs": [],
   "source": []
  }
 ],
 "metadata": {
  "kernelspec": {
   "display_name": "Python 3 (ipykernel)",
   "language": "python",
   "name": "python3"
  },
  "language_info": {
   "codemirror_mode": {
    "name": "ipython",
    "version": 3
   },
   "file_extension": ".py",
   "mimetype": "text/x-python",
   "name": "python",
   "nbconvert_exporter": "python",
   "pygments_lexer": "ipython3",
   "version": "3.8.20"
  }
 },
 "nbformat": 4,
 "nbformat_minor": 5
}
