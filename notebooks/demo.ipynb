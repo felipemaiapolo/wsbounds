{
 "cells": [
  {
   "cell_type": "markdown",
   "id": "cdcfc134",
   "metadata": {},
   "source": [
    "# Demo: hate speech detection"
   ]
  },
  {
   "cell_type": "code",
   "execution_count": 1,
   "id": "4e30d738",
   "metadata": {},
   "outputs": [],
   "source": [
    "import numpy as np\n",
    "import pandas as pd\n",
    "import torch\n",
    "import pickle\n",
    "from tqdm.auto import tqdm\n",
    "import matplotlib.pyplot as plt\n",
    "from sentence_transformers import SentenceTransformer\n",
    "from sklearn.model_selection import train_test_split\n",
    "from sklearn.metrics import precision_score, recall_score, f1_score\n",
    "from snorkel.labeling.model import LabelModel\n",
    "import os\n",
    "from os import walk\n",
    "import sys\n",
    "\n",
    "sys.path.insert(0, os.path.abspath(os.path.join(os.getcwd(), os.pardir)))\n",
    "from wsbounds.label_functions import *\n",
    "from wsbounds.utils import DefineDevice, FindRowIndex, GetP_Y_Z, SuppressPrints\n",
    "from wsbounds.models import LogReg, TrainModelCI, CIRisk, GetLogLossTensor\n",
    "from wsbounds.eval_pws import EvalPWS\n",
    "\n",
    "### Some fixed params ###\n",
    "device='cuda'\n",
    "tol = 1e-4\n",
    "max_epochs = 1e4\n",
    "weight_decays_ws = np.logspace(0,-3,10)\n",
    "conf = .95\n",
    "approx_error = .001\n",
    "random_state=42\n",
    "verbose=True"
   ]
  },
  {
   "cell_type": "markdown",
   "id": "11361798",
   "metadata": {},
   "source": [
    "## Data"
   ]
  },
  {
   "cell_type": "markdown",
   "id": "e36eae4a",
   "metadata": {},
   "source": [
    "### Loading data"
   ]
  },
  {
   "cell_type": "code",
   "execution_count": 2,
   "id": "bec791d3",
   "metadata": {},
   "outputs": [],
   "source": [
    "data_path = '../data'"
   ]
  },
  {
   "cell_type": "code",
   "execution_count": 3,
   "id": "43558264",
   "metadata": {},
   "outputs": [],
   "source": [
    "train_path = data_path+'/hate-speech-dataset/sampled_train'\n",
    "train_filenames = next(walk(train_path), (None, None, []))[2] \n",
    "\n",
    "test_path = data_path+'/hate-speech-dataset/sampled_test'\n",
    "test_filenames = next(walk(test_path), (None, None, []))[2]\n",
    "\n",
    "annot = pd.read_csv(data_path+'/hate-speech-dataset/annotations_metadata.csv')\n",
    "\n",
    "## Preparing data ##\n",
    "train = []\n",
    "test = []\n",
    "Y_test = []\n",
    "  \n",
    "def labeler(label):\n",
    "    if label=='noHate': return 0\n",
    "    else: return 1\n",
    "\n",
    "for file in train_filenames:\n",
    "    with open(train_path + '/' + file, 'r') as f:\n",
    "        train.append(f.read().rstrip())\n",
    "\n",
    "for file in test_filenames:\n",
    "    with open(test_path + '/' + file, 'r') as f:\n",
    "        test.append(f.read().rstrip())\n",
    "    Y_test.append(labeler(annot.loc[annot.file_id==file.replace('.txt','')]['label'].iloc[0]))"
   ]
  },
  {
   "cell_type": "markdown",
   "id": "1938633c",
   "metadata": {},
   "source": [
    "Dataset sizes"
   ]
  },
  {
   "cell_type": "code",
   "execution_count": 4,
   "id": "8dec41bd",
   "metadata": {},
   "outputs": [
    {
     "data": {
      "text/plain": [
       "(1914, 478)"
      ]
     },
     "execution_count": 4,
     "metadata": {},
     "output_type": "execute_result"
    }
   ],
   "source": [
    "len(train), len(test)"
   ]
  },
  {
   "cell_type": "code",
   "execution_count": 8,
   "id": "393e5709-edaa-4b07-9a0e-83a7508c82cd",
   "metadata": {},
   "outputs": [
    {
     "data": {
      "text/plain": [
       "[1, 1, 1, 1, 1, 1, 0, 0, 1, 1]"
      ]
     },
     "execution_count": 8,
     "metadata": {},
     "output_type": "execute_result"
    }
   ],
   "source": [
    "Y_test[:10]"
   ]
  },
  {
   "cell_type": "markdown",
   "id": "54fd6d71",
   "metadata": {},
   "source": [
    "Examples of non-hate speech/hate speech:"
   ]
  },
  {
   "cell_type": "code",
   "execution_count": 12,
   "id": "190f228f",
   "metadata": {},
   "outputs": [
    {
     "name": "stdout",
     "output_type": "stream",
     "text": [
      "noHate example: I've followed Mr. Kievsky 's adventures through VNN for the last couple years . \n",
      "\n",
      "Hate example: the kind of perversion that leads to homosexuality also leads to pedophilia. why take the risk , and even if the homosexuals turned out not to be pedophiles why would anyone want a child to live with two perverts .\n"
     ]
    }
   ],
   "source": [
    "print(\"noHate example:\", test[6], \"\\n\\nHate example:\",test[4])"
   ]
  },
  {
   "cell_type": "markdown",
   "id": "f700bd93",
   "metadata": {},
   "source": [
    "### Processing data"
   ]
  },
  {
   "cell_type": "markdown",
   "id": "22ae72a6",
   "metadata": {},
   "source": [
    "Extracting features from $X$:"
   ]
  },
  {
   "cell_type": "code",
   "execution_count": 14,
   "id": "13f922f0",
   "metadata": {},
   "outputs": [
    {
     "data": {
      "application/vnd.jupyter.widget-view+json": {
       "model_id": "5eba25efe77e4574b181241e4f147ec5",
       "version_major": 2,
       "version_minor": 0
      },
      "text/plain": [
       "HBox(children=(IntProgress(value=0, max=83426730), HTML(value='')))"
      ]
     },
     "metadata": {},
     "output_type": "display_data"
    },
    {
     "name": "stdout",
     "output_type": "stream",
     "text": [
      "\n"
     ]
    },
    {
     "name": "stderr",
     "output_type": "stream",
     "text": [
      "You try to use a model that was created with version 1.2.0, however, your version is 1.1.1. This might cause unexpected behavior or errors. In that case, try to update to the latest version.\n",
      "\n",
      "\n",
      "\n"
     ]
    },
    {
     "data": {
      "application/vnd.jupyter.widget-view+json": {
       "model_id": "3bab3f97fbd0418780193cd9e944cf42",
       "version_major": 2,
       "version_minor": 0
      },
      "text/plain": [
       "HBox(children=(IntProgress(value=0, max=1914), HTML(value='')))"
      ]
     },
     "metadata": {},
     "output_type": "display_data"
    },
    {
     "name": "stdout",
     "output_type": "stream",
     "text": [
      "\n"
     ]
    },
    {
     "data": {
      "application/vnd.jupyter.widget-view+json": {
       "model_id": "9b1c6b73d72f4432a8af0f671c323d8d",
       "version_major": 2,
       "version_minor": 0
      },
      "text/plain": [
       "HBox(children=(IntProgress(value=0, max=478), HTML(value='')))"
      ]
     },
     "metadata": {},
     "output_type": "display_data"
    },
    {
     "name": "stdout",
     "output_type": "stream",
     "text": [
      "\n"
     ]
    }
   ],
   "source": [
    "feature_extractor = SentenceTransformer('paraphrase-MiniLM-L6-v2')\n",
    "\n",
    "X_train = torch.stack([torch.tensor(feature_extractor.encode([t])[0]) for t in tqdm(train, disable=not verbose)]).double().to(device)\n",
    "X_test = torch.stack([torch.tensor(feature_extractor.encode([t])[0]) for t in tqdm(test, disable=not verbose)]).double().to(device)"
   ]
  },
  {
   "cell_type": "code",
   "execution_count": 16,
   "id": "e2ac8940",
   "metadata": {},
   "outputs": [
    {
     "data": {
      "text/plain": [
       "(torch.Size([1914, 384]), torch.Size([478, 384]))"
      ]
     },
     "execution_count": 16,
     "metadata": {},
     "output_type": "execute_result"
    }
   ],
   "source": [
    "X_train.shape, X_test.shape"
   ]
  },
  {
   "cell_type": "markdown",
   "id": "e9462bd1",
   "metadata": {},
   "source": [
    "#### Extracting weak labels from texts"
   ]
  },
  {
   "cell_type": "markdown",
   "id": "14edfdf2",
   "metadata": {},
   "source": [
    "Loading hate/offensive terms"
   ]
  },
  {
   "cell_type": "code",
   "execution_count": 17,
   "id": "e45769a6",
   "metadata": {},
   "outputs": [
    {
     "data": {
      "text/plain": [
       "(['allah akbar',\n",
       "  'blacks',\n",
       "  'chink',\n",
       "  'chinks',\n",
       "  'dykes',\n",
       "  'faggot',\n",
       "  'faggots',\n",
       "  'fags',\n",
       "  'homo',\n",
       "  'inbred'],\n",
       " 178)"
      ]
     },
     "execution_count": 17,
     "metadata": {},
     "output_type": "execute_result"
    }
   ],
   "source": [
    "terms = list(pd.read_csv(data_path+'/refined_ngram_dict.csv').ngram)\n",
    "terms[:10], len(terms)"
   ]
  },
  {
   "cell_type": "markdown",
   "id": "b22cd715",
   "metadata": {},
   "source": [
    "Loading pre-trained classifiers"
   ]
  },
  {
   "cell_type": "code",
   "execution_count": 18,
   "id": "998749ac",
   "metadata": {},
   "outputs": [
    {
     "data": {
      "application/vnd.jupyter.widget-view+json": {
       "model_id": "c795cf2fbf744befb546e189bb755f60",
       "version_major": 2,
       "version_minor": 0
      },
      "text/plain": [
       "HBox(children=(IntProgress(value=0, description='Downloading', max=213450, style=ProgressStyle(description_wid…"
      ]
     },
     "metadata": {},
     "output_type": "display_data"
    },
    {
     "name": "stdout",
     "output_type": "stream",
     "text": [
      "\n"
     ]
    },
    {
     "data": {
      "application/vnd.jupyter.widget-view+json": {
       "model_id": "1fec88e91a3643d68a478e8a289422ab",
       "version_major": 2,
       "version_minor": 0
      },
      "text/plain": [
       "HBox(children=(IntProgress(value=0, description='Downloading', max=112, style=ProgressStyle(description_width=…"
      ]
     },
     "metadata": {},
     "output_type": "display_data"
    },
    {
     "name": "stdout",
     "output_type": "stream",
     "text": [
      "\n"
     ]
    },
    {
     "data": {
      "application/vnd.jupyter.widget-view+json": {
       "model_id": "2c2599ee4edc453ba339083cfb7549d1",
       "version_major": 2,
       "version_minor": 0
      },
      "text/plain": [
       "HBox(children=(IntProgress(value=0, description='Downloading', max=49, style=ProgressStyle(description_width='…"
      ]
     },
     "metadata": {},
     "output_type": "display_data"
    },
    {
     "name": "stdout",
     "output_type": "stream",
     "text": [
      "\n"
     ]
    },
    {
     "data": {
      "application/vnd.jupyter.widget-view+json": {
       "model_id": "f70f6af955d843c9aff77b8400e18547",
       "version_major": 2,
       "version_minor": 0
      },
      "text/plain": [
       "HBox(children=(IntProgress(value=0, description='Downloading', max=865, style=ProgressStyle(description_width=…"
      ]
     },
     "metadata": {},
     "output_type": "display_data"
    },
    {
     "name": "stdout",
     "output_type": "stream",
     "text": [
      "\n"
     ]
    },
    {
     "data": {
      "application/vnd.jupyter.widget-view+json": {
       "model_id": "fd584aabc1a74eb5bfe766e1d8827ee1",
       "version_major": 2,
       "version_minor": 0
      },
      "text/plain": [
       "HBox(children=(IntProgress(value=0, description='Downloading', max=433303667, style=ProgressStyle(description_…"
      ]
     },
     "metadata": {},
     "output_type": "display_data"
    },
    {
     "name": "stdout",
     "output_type": "stream",
     "text": [
      "\n"
     ]
    },
    {
     "data": {
      "application/vnd.jupyter.widget-view+json": {
       "model_id": "491358c57edd493fb973af2c6bade5c6",
       "version_major": 2,
       "version_minor": 0
      },
      "text/plain": [
       "HBox(children=(IntProgress(value=0, description='Downloading', max=798293, style=ProgressStyle(description_wid…"
      ]
     },
     "metadata": {},
     "output_type": "display_data"
    },
    {
     "name": "stdout",
     "output_type": "stream",
     "text": [
      "\n"
     ]
    },
    {
     "data": {
      "application/vnd.jupyter.widget-view+json": {
       "model_id": "6bc7c49d3cda40c9ad042f068237c517",
       "version_major": 2,
       "version_minor": 0
      },
      "text/plain": [
       "HBox(children=(IntProgress(value=0, description='Downloading', max=456356, style=ProgressStyle(description_wid…"
      ]
     },
     "metadata": {},
     "output_type": "display_data"
    },
    {
     "name": "stdout",
     "output_type": "stream",
     "text": [
      "\n"
     ]
    },
    {
     "data": {
      "application/vnd.jupyter.widget-view+json": {
       "model_id": "6ce6d46367854d7fa1cba888cfddc2f9",
       "version_major": 2,
       "version_minor": 0
      },
      "text/plain": [
       "HBox(children=(IntProgress(value=0, description='Downloading', max=239, style=ProgressStyle(description_width=…"
      ]
     },
     "metadata": {},
     "output_type": "display_data"
    },
    {
     "name": "stdout",
     "output_type": "stream",
     "text": [
      "\n"
     ]
    },
    {
     "data": {
      "application/vnd.jupyter.widget-view+json": {
       "model_id": "dae5d392b0bf4c5aadcf8a6a1c964f0e",
       "version_major": 2,
       "version_minor": 0
      },
      "text/plain": [
       "HBox(children=(IntProgress(value=0, description='Downloading', max=25, style=ProgressStyle(description_width='…"
      ]
     },
     "metadata": {},
     "output_type": "display_data"
    },
    {
     "name": "stdout",
     "output_type": "stream",
     "text": [
      "\n"
     ]
    },
    {
     "data": {
      "application/vnd.jupyter.widget-view+json": {
       "model_id": "d5f1867219ef4d918f7845d7af3d653c",
       "version_major": 2,
       "version_minor": 0
      },
      "text/plain": [
       "HBox(children=(IntProgress(value=0, description='Downloading', max=794, style=ProgressStyle(description_width=…"
      ]
     },
     "metadata": {},
     "output_type": "display_data"
    },
    {
     "name": "stdout",
     "output_type": "stream",
     "text": [
      "\n"
     ]
    },
    {
     "data": {
      "application/vnd.jupyter.widget-view+json": {
       "model_id": "f28072b0c94c478a82abec3dbd6d09ed",
       "version_major": 2,
       "version_minor": 0
      },
      "text/plain": [
       "HBox(children=(IntProgress(value=0, description='Downloading', max=501037970, style=ProgressStyle(description_…"
      ]
     },
     "metadata": {},
     "output_type": "display_data"
    },
    {
     "name": "stdout",
     "output_type": "stream",
     "text": [
      "\n"
     ]
    },
    {
     "name": "stderr",
     "output_type": "stream",
     "text": [
      "Some weights of the model checkpoint at s-nlp/roberta_toxicity_classifier were not used when initializing RobertaForSequenceClassification: ['roberta.pooler.dense.bias', 'roberta.pooler.dense.weight']\n",
      "- This IS expected if you are initializing RobertaForSequenceClassification from the checkpoint of a model trained on another task or with another architecture (e.g. initializing a BertForSequenceClassification model from a BertForPreTraining model).\n",
      "- This IS NOT expected if you are initializing RobertaForSequenceClassification from the checkpoint of a model that you expect to be exactly identical (initializing a BertForSequenceClassification model from a BertForSequenceClassification model).\n"
     ]
    }
   ],
   "source": [
    "## Loading language models and bank of terms used to obtain WLs ##\n",
    "#Loading BERT for hate speech detection (https://huggingface.co/IMSyPP/hate_speech_en)\n",
    "bert_tokenizer = BertTokenizer.from_pretrained('IMSyPP/hate_speech_en')\n",
    "bert_model = BertForSequenceClassification.from_pretrained('IMSyPP/hate_speech_en').to(device)\n",
    "\n",
    "#Loading Roberta for toxicity detection\n",
    "#https://huggingface.co/s-nlp/roberta_toxicity_classifier?text=I+like+you.+I+love+you\n",
    "roberta_tokenizer = RobertaTokenizer.from_pretrained('s-nlp/roberta_toxicity_classifier')\n",
    "roberta_model = RobertaForSequenceClassification.from_pretrained('s-nlp/roberta_toxicity_classifier').to(device)"
   ]
  },
  {
   "cell_type": "markdown",
   "id": "5438ca92",
   "metadata": {},
   "source": [
    "Getting weak labels"
   ]
  },
  {
   "cell_type": "code",
   "execution_count": 19,
   "id": "7c8f4f6f",
   "metadata": {},
   "outputs": [
    {
     "data": {
      "application/vnd.jupyter.widget-view+json": {
       "model_id": "1af48a89e178443586cb09c1eb0fd073",
       "version_major": 2,
       "version_minor": 0
      },
      "text/plain": [
       "HBox(children=(IntProgress(value=0, max=1914), HTML(value='')))"
      ]
     },
     "metadata": {},
     "output_type": "display_data"
    },
    {
     "name": "stdout",
     "output_type": "stream",
     "text": [
      "\n"
     ]
    }
   ],
   "source": [
    "L_train = torch.tensor([[textblob_sentiment_lf(text), \n",
    "                         terms_lf(text, terms),\n",
    "                         bert_hate_lf(text, bert_model, bert_tokenizer, device), \n",
    "                         roberta_toxicity_lf(text, roberta_model, roberta_tokenizer, device)] for text in tqdm(train, disable=not verbose)])"
   ]
  },
  {
   "cell_type": "code",
   "execution_count": 20,
   "id": "1c347550",
   "metadata": {},
   "outputs": [
    {
     "data": {
      "text/plain": [
       "tensor([[0, 0, 0, 1],\n",
       "        [0, 0, 1, 0],\n",
       "        [1, 0, 0, 0],\n",
       "        ...,\n",
       "        [0, 0, 0, 0],\n",
       "        [0, 0, 0, 0],\n",
       "        [1, 0, 0, 0]])"
      ]
     },
     "execution_count": 20,
     "metadata": {},
     "output_type": "execute_result"
    }
   ],
   "source": [
    "L_train"
   ]
  },
  {
   "cell_type": "markdown",
   "id": "b782b5a6",
   "metadata": {},
   "source": [
    "Putting some part of the training set to validation"
   ]
  },
  {
   "cell_type": "code",
   "execution_count": 21,
   "id": "b40d63b9",
   "metadata": {},
   "outputs": [],
   "source": [
    "X_train, X_val,\\\n",
    "L_train, L_val = train_test_split(X_train, L_train, test_size=.1, random_state=random_state)\n",
    "\n",
    "L = torch.vstack((L_train, L_val))"
   ]
  },
  {
   "cell_type": "markdown",
   "id": "1934c2c0",
   "metadata": {},
   "source": [
    "Standardizing $X$"
   ]
  },
  {
   "cell_type": "code",
   "execution_count": 22,
   "id": "85f6c60f",
   "metadata": {},
   "outputs": [],
   "source": [
    "X_test = (X_test-X_train.mean(axis=0))/X_train.std(axis=0)\n",
    "X_val = (X_val-X_train.mean(axis=0))/X_train.std(axis=0)\n",
    "X_train = (X_train-X_train.mean(axis=0))/X_train.std(axis=0)"
   ]
  },
  {
   "cell_type": "markdown",
   "id": "bf272b70",
   "metadata": {},
   "source": [
    "Creating Z from L (encoding L)"
   ]
  },
  {
   "cell_type": "code",
   "execution_count": 23,
   "id": "dcf4d7cd",
   "metadata": {},
   "outputs": [],
   "source": [
    "set_Z_aux = torch.unique(L, dim=0) \n",
    "Z_train = torch.tensor([FindRowIndex(set_Z_aux, l) for l in L_train]) #used to train ws model\n",
    "Z_val = torch.tensor([FindRowIndex(set_Z_aux, l) for l in L_val]) #used to validate hyperpar. of ws model\n",
    "Z = torch.hstack((Z_train, Z_val))"
   ]
  },
  {
   "cell_type": "markdown",
   "id": "33975635",
   "metadata": {},
   "source": [
    "Defining supp(Y) and supp(Z)"
   ]
  },
  {
   "cell_type": "code",
   "execution_count": 24,
   "id": "bcdce1f4",
   "metadata": {},
   "outputs": [],
   "source": [
    "set_Y_aux = [0,1]\n",
    "set_Y = torch.tensor(range(len(set_Y_aux)))\n",
    "set_Z = torch.tensor(range(set_Z_aux.shape[0]))"
   ]
  },
  {
   "cell_type": "markdown",
   "id": "8953befe",
   "metadata": {},
   "source": [
    "## Fitting label model"
   ]
  },
  {
   "cell_type": "code",
   "execution_count": 25,
   "id": "c0a2a653",
   "metadata": {},
   "outputs": [],
   "source": [
    "label_model = LabelModel(cardinality=set_Y.shape[0], verbose=False)\n",
    "label_model.fit(L_train = L, n_epochs=1000, seed=random_state)\n",
    "P_Y_Z = torch.tensor(label_model.predict_proba(L=set_Z_aux)).T   \n",
    "P_Y_Z = P_Y_Z.double().to(device)"
   ]
  },
  {
   "cell_type": "code",
   "execution_count": 26,
   "id": "9fde49af",
   "metadata": {},
   "outputs": [
    {
     "data": {
      "image/png": "[encoded data removed]",
      "text/plain": [
       "<Figure size 640x480 with 2 Axes>"
      ]
     },
     "metadata": {},
     "output_type": "display_data"
    }
   ],
   "source": [
    "im = plt.imshow(P_Y_Z.T.to('cpu'))\n",
    "plt.ylabel('Z')\n",
    "plt.xlabel('Y')\n",
    "plt.colorbar(im, label='probability')\n",
    "plt.show()"
   ]
  },
  {
   "cell_type": "markdown",
   "id": "50abe0b7",
   "metadata": {},
   "source": [
    "## Fitting final classifier"
   ]
  },
  {
   "cell_type": "code",
   "execution_count": 27,
   "id": "615b2e82",
   "metadata": {},
   "outputs": [
    {
     "data": {
      "application/vnd.jupyter.widget-view+json": {
       "model_id": "fd410e36120146eeb4ae49847a7f13fc",
       "version_major": 2,
       "version_minor": 0
      },
      "text/plain": [
       "HBox(children=(IntProgress(value=0, max=10), HTML(value='')))"
      ]
     },
     "metadata": {},
     "output_type": "display_data"
    },
    {
     "name": "stdout",
     "output_type": "stream",
     "text": [
      "\n"
     ]
    }
   ],
   "source": [
    "val_losses = []\n",
    "for weight_decay in tqdm(weight_decays_ws, disable=not verbose):\n",
    "    model = LogReg(X_train.shape[1], set_Y.shape[0]).double().to(device)\n",
    "    model = TrainModelCI(model, X_train, Z_train, set_Z, P_Y_Z, weight_decay=weight_decay, tol=tol, max_epochs=max_epochs, device=device)\n",
    "    val_losses.append(CIRisk(GetLogLossTensor(model, X_val), Z_val, set_Z, P_Y_Z, device).item())\n",
    "model_ws = LogReg(X_train.shape[1], set_Y.shape[0]).double().to(device)\n",
    "model_ws = TrainModelCI(model_ws, X_train, Z_train, set_Z, P_Y_Z, weight_decay=weight_decays_ws[np.argmin(val_losses)], tol=tol, max_epochs=max_epochs, device=device)"
   ]
  },
  {
   "cell_type": "markdown",
   "id": "b4054efa",
   "metadata": {},
   "source": [
    "## Evaluation (with Fréchet bounds)"
   ]
  },
  {
   "cell_type": "code",
   "execution_count": 46,
   "id": "32375d27",
   "metadata": {},
   "outputs": [],
   "source": [
    "threshs = np.linspace(0.05,.95,20)"
   ]
  },
  {
   "cell_type": "code",
   "execution_count": 47,
   "id": "17fdc642",
   "metadata": {},
   "outputs": [
    {
     "data": {
      "application/vnd.jupyter.widget-view+json": {
       "model_id": "33a169da3242491aa41dddff3b2cf6e9",
       "version_major": 2,
       "version_minor": 0
      },
      "text/plain": [
       "HBox(children=(IntProgress(value=0, max=20), HTML(value='')))"
      ]
     },
     "metadata": {},
     "output_type": "display_data"
    },
    {
     "name": "stdout",
     "output_type": "stream",
     "text": [
      "\n"
     ]
    }
   ],
   "source": [
    "eval_bound = {}\n",
    "\n",
    "for thresh in tqdm(threshs):\n",
    "    \n",
    "    y_hat = (model_ws(X_val)[:,1]>thresh).long()\n",
    "    y_hat_full = (model_ws(torch.vstack((X_test,X_val)))[:,1]>thresh).long()\n",
    "\n",
    "    eval_bound[thresh] = EvalPWS(y_hat, 'prf', set_Y, set_Z, Z_val, P_Y_Z, device, y_hat_full, Z)"
   ]
  },
  {
   "cell_type": "code",
   "execution_count": 48,
   "id": "e0de4348",
   "metadata": {},
   "outputs": [
    {
     "data": {
      "image/png": "[encoded data removed]",
      "text/plain": [
       "<Figure size 1200x300 with 3 Axes>"
      ]
     },
     "metadata": {},
     "output_type": "display_data"
    }
   ],
   "source": [
    "plt.figure(figsize=(12, 3))\n",
    "colors = {'lower':'red', 'upper':'blue'}\n",
    "\n",
    "for i,metric in enumerate(['precision','recall','f1']):\n",
    "    plt.subplot(1, 3, i+1)\n",
    "    for bound in ['lower','upper']:\n",
    "        plot_data = np.array([[eval_bound[thresh][bound][metric]['center']]+eval_bound[thresh][bound][metric]['ci'] for thresh in threshs])\n",
    "    \n",
    "        plt.plot(threshs, plot_data[:,0], color=colors[bound], alpha=.5)\n",
    "        plt.fill_between(threshs, plot_data[:,1], plot_data[:,2], color=colors[bound], alpha=.05)\n",
    "        \n",
    "    #plot test values\n",
    "    test_values = []\n",
    "    for thresh in threshs:\n",
    "        y_hat = (model_ws(X_test)>thresh)[:,1].to('cpu').numpy().astype('int').tolist()\n",
    "        y = Y_test\n",
    "        \n",
    "        if metric=='precision':\n",
    "            test_values.append(precision_score(y, y_hat, average='binary')) \n",
    "        elif metric=='recall':\n",
    "            test_values.append(recall_score(y, y_hat, average='binary'))\n",
    "        else:\n",
    "            test_values.append(f1_score(y, y_hat, average='binary'))\n",
    "            \n",
    "    plt.plot(threshs, test_values, color='green')\n",
    "    plt.ylim(0,1)\n",
    "    plt.xlim(0,1)\n",
    "    plt.ylabel(metric, size=12)\n",
    "    plt.xlabel('classification threshold', size=12)\n",
    "    plt.grid(alpha=.2)\n",
    "plt.tight_layout()\n",
    "plt.show()"
   ]
  }
 ],
 "metadata": {
  "kernelspec": {
   "display_name": "Python 3 (ipykernel)",
   "language": "python",
   "name": "python3"
  },
  "language_info": {
   "codemirror_mode": {
    "name": "ipython",
    "version": 3
   },
   "file_extension": ".py",
   "mimetype": "text/x-python",
   "name": "python",
   "nbconvert_exporter": "python",
   "pygments_lexer": "ipython3",
   "version": "3.8.20"
  }
 },
 "nbformat": 4,
 "nbformat_minor": 5
}
